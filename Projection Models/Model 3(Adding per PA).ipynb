{
 "cells": [
  {
   "cell_type": "markdown",
   "id": "60b5e9c9-ef2b-4405-a925-9bb1d24fa10e",
   "metadata": {},
   "source": [
    "This model generates a projected value for a given statistic by using a weighted mean of the previous three seasons for each player, with weights optimized using SciPy to minimize error. It also distinguishes between cumulative and rate statistics, calculating cumulative stats per plate appearance for improved accuracy. No projections are made for first-year players."
   ]
  },
  {
   "cell_type": "markdown",
   "id": "35f50938-b96b-414e-91be-91a52755bf26",
   "metadata": {},
   "source": [
    "# Import Packages and Data"
   ]
  },
  {
   "cell_type": "code",
   "execution_count": 22,
   "id": "c79dd2c7-c62c-46cf-8d45-39205ed5d861",
   "metadata": {},
   "outputs": [],
   "source": [
    "# Import necessary libraries\n",
    "import numpy as np\n",
    "import pandas as pd\n",
    "from scipy.optimize import minimize"
   ]
  },
  {
   "cell_type": "code",
   "execution_count": 23,
   "id": "46d1c54a-87ad-49c2-80d2-e52db8879c5a",
   "metadata": {},
   "outputs": [],
   "source": [
    "# Load the data from a CSV file into a DataFrame\n",
    "df = pd.read_csv('../Resources/properly_formatted_data.csv')"
   ]
  },
  {
   "cell_type": "code",
   "execution_count": 24,
   "id": "ea465e54-bd7f-4b76-8820-64e99a4d1274",
   "metadata": {},
   "outputs": [],
   "source": [
    "# Seperate stats by cumulative and rate\n",
    "pa_list = ['H', '1B', '2B', '3B', 'HR', 'R', 'RBI', 'BB', 'SH', 'SB', 'L-WAR', 'wRC', 'WAR']\n",
    "non_pa_list = ['G', 'AB', 'PA', 'AVG', 'BB%', 'OBP', 'SLG', 'OPS', 'ISO', 'wOBA', 'wRAA', 'wRC+', 'BB%+']"
   ]
  },
  {
   "cell_type": "markdown",
   "id": "757b84c6-de0a-4617-b30f-14ba21cc7346",
   "metadata": {},
   "source": [
    "# Automate"
   ]
  },
  {
   "cell_type": "code",
   "execution_count": 25,
   "id": "d3e68f5c-d2e7-4c6d-ac8f-bc0d6a8fec9d",
   "metadata": {},
   "outputs": [],
   "source": [
    "# Calculate a weighted mean projection based on three years of data.\n",
    "# Normalize the weights to ensure they sum to 1 before returning the result.\n",
    "def projection(weights, year1, year2, year3):\n",
    "    weighted_mean = weights[0] * year1 + weights[1] * year2 + weights[2] * year3\n",
    "    weighted_mean /= np.sum(weights)  # Normalize the weights to sum to 1\n",
    "    return weighted_mean"
   ]
  },
  {
   "cell_type": "code",
   "execution_count": 26,
   "id": "672063b8-b5c7-4ded-be30-dc6329969393",
   "metadata": {},
   "outputs": [],
   "source": [
    "def objective(params, df):\n",
    "    weights = params[:3]  # First 3 params are the weights for the years\n",
    "    \n",
    "    total_rmse = 0  # Sum of RMSE for all players\n",
    "    \n",
    "    # Loop through each player and compute the error\n",
    "    for _, row in df.iterrows():\n",
    "        # Access columns by their positional index\n",
    "        year1_stat, year2_stat, year3_stat = row.iloc[1], row.iloc[2], row.iloc[3]\n",
    "\n",
    "        observed_stat = row.iloc[0]\n",
    "        \n",
    "        # Compute projected stats\n",
    "        projected_stat = projection(weights, year1_stat, year2_stat, year3_stat)\n",
    "        \n",
    "        \n",
    "        # Compute RMSE for stat\n",
    "        rmse_stat = np.sqrt(np.mean((projected_stat - observed_stat) ** 2))\n",
    "        \n",
    "        \n",
    "        total_rmse += rmse_stat\n",
    "    \n",
    "    return total_rmse  # Total RMSE for the entire dataset"
   ]
  },
  {
   "cell_type": "code",
   "execution_count": 27,
   "id": "6aa801ec-583c-4ac5-9f41-e6f63dd8726c",
   "metadata": {},
   "outputs": [],
   "source": [
    "def calculate_projected_stat(row):\n",
    "    # Get the previous 3 years' stat values\n",
    "    previous_stat_values = row.iloc[1:4].values\n",
    "    \n",
    "    # Filter out NaN values (which represent missing data for second and third year players) and their corresponding weights\n",
    "    valid_values = [val for val, weight in zip(previous_stat_values, optimized_weights) if not np.isnan(val)]\n",
    "    valid_weights = [weight for val, weight in zip(previous_stat_values, optimized_weights) if not np.isnan(val)]\n",
    "    \n",
    "    # Check if no valid data exists\n",
    "    if len(valid_values) == 0:\n",
    "        return np.nan  # Return NaN if no previous value is available (rookie season)\n",
    "    \n",
    "    # Calculate the weighted average of the valid previous stat values\n",
    "    weighted_sum = sum(val * weight for val, weight in zip(valid_values, valid_weights))\n",
    "    weighted_avg = weighted_sum / sum(valid_weights)\n",
    "    \n",
    "    return weighted_avg"
   ]
  },
  {
   "cell_type": "code",
   "execution_count": 28,
   "id": "bc985475-4674-4bbc-9a5f-13584c9e337a",
   "metadata": {},
   "outputs": [
    {
     "name": "stdout",
     "output_type": "stream",
     "text": [
      "Optimized Weights: [0.55706882 0.14237771 0.0636827 ]\n",
      "Optimized Weights: [0.60607341 0.12210693 0.06075946]\n",
      "Optimized Weights: [0.65158376 0.12981028 0.0617733 ]\n",
      "Optimized Weights: [0.42961582 0.31509783 0.20345475]\n",
      "Optimized Weights: [0.43566675 0.30478457 0.1969243 ]\n",
      "Optimized Weights: [0.430343   0.30751144 0.19723082]\n",
      "Optimized Weights: [0.47859045 0.30625046 0.20317302]\n",
      "Optimized Weights: [0.45856742 0.31210143 0.20945251]\n",
      "Optimized Weights: [0.5024387  0.2972551  0.19577622]\n",
      "Optimized Weights: [0.43250237 0.3035576  0.19775468]\n",
      "Optimized Weights: [0.47453558 0.27859936 0.22395609]\n",
      "Optimized Weights: [0.43523122 0.30351999 0.20522359]\n",
      "Optimized Weights: [0.44503495 0.30780076 0.19854949]\n"
     ]
    }
   ],
   "source": [
    "# Iterate through each statistic in the 'non_pa_list' for projection.\n",
    "for stat in non_pa_list:\n",
    "    # For each stat, create a subset of the DataFrame containing the current season's stat\n",
    "    # and the stats from the previous three seasons (e.g., '1Prev_stat', '2Prev_stat', '3Prev_stat').\n",
    "    training_df = df[[stat, f'1Prev_{stat}', f'2Prev_{stat}', f'3Prev_{stat}']]\n",
    "\n",
    "    # Copy the data for future use and drop any rows with missing (NaN) values.\n",
    "    training_df_original = training_df.copy()\n",
    "    training_df = training_df.dropna()\n",
    "\n",
    "    # Use an initial guess of equal weights (0.33) for the three seasons to start the optimization.\n",
    "    initial_guess = [0.33, 0.33, 0.33]\n",
    "\n",
    "    # Apply the Nelder-Mead optimization method to minimize the objective function and find the best weights.\n",
    "    result = minimize(objective, initial_guess, args=(training_df,), method='Nelder-Mead')\n",
    "\n",
    "    # Extract the optimized weights for the three seasons and print them for verification.\n",
    "    optimized_weights = result.x[:3]\n",
    "    print(\"Optimized Weights:\", optimized_weights)\n",
    "\n",
    "    # Apply the 'calculate_projected_stat' function to the cleaned data to generate the projected stat\n",
    "    # and add it as a new column in the DataFrame\n",
    "    df[f'Projected_{stat}'] = training_df_original.apply(calculate_projected_stat, axis=1)"
   ]
  },
  {
   "cell_type": "markdown",
   "id": "e7aba474-b18f-4020-8dce-cb2154513b19",
   "metadata": {},
   "source": [
    "# Adding per PA"
   ]
  },
  {
   "cell_type": "code",
   "execution_count": 31,
   "id": "36dd08fa-198c-4e35-a040-f9d5e0a9dda3",
   "metadata": {},
   "outputs": [],
   "source": [
    "def calculate_projected_stat_per_pa(row):\n",
    "    # Get the previous 3 years' stat values\n",
    "    previous_stat_values = row.iloc[1:4].values\n",
    "    \n",
    "    # Filter out NaN values (which represent missing data for second and third year players) and their corresponding weights\n",
    "    valid_values = [val for val, weight in zip(previous_stat_values, optimized_weights) if not np.isnan(val)]\n",
    "    valid_weights = [weight for val, weight in zip(previous_stat_values, optimized_weights) if not np.isnan(val)]\n",
    "    \n",
    "    # Check if no valid data exists\n",
    "    if len(valid_values) == 0:\n",
    "        return np.nan  # Return NaN if no previous value is available (rookie season)\n",
    "    \n",
    "    # Calculate the weighted average of the valid previous stat values\n",
    "    weighted_sum = sum(val * weight for val, weight in zip(valid_values, valid_weights))\n",
    "    weighted_avg = weighted_sum / sum(valid_weights)\n",
    "\n",
    "    # Multiply the expecteted per PA stat by projected PA to get an estimate for projected cumlative stat\n",
    "    regressed_avg = weighted_avg * row.iloc[4]\n",
    "    \n",
    "    return regressed_avg"
   ]
  },
  {
   "cell_type": "code",
   "execution_count": 32,
   "id": "621bdd23-dfe3-49c2-9d66-5393da2df18b",
   "metadata": {},
   "outputs": [
    {
     "name": "stdout",
     "output_type": "stream",
     "text": [
      "Optimized Weights: [0.51078732 0.25702032 0.17601161]\n",
      "Optimized Weights: [0.49111432 0.30726938 0.20644621]\n",
      "Optimized Weights: [0.49227301 0.26364831 0.17673368]\n",
      "Optimized Weights: [0.55075862 0.29879894 0.13028598]\n",
      "Optimized Weights: [0.51864579 0.24960802 0.14697175]\n",
      "Optimized Weights: [0.5726461  0.28837273 0.11705846]\n",
      "Optimized Weights: [0.50856386 0.28501604 0.16570355]\n",
      "Optimized Weights: [0.49846368 0.31202633 0.18759177]\n",
      "Optimized Weights: [0.42385782 0.30626452 0.21442836]\n",
      "Optimized Weights: [0.53230826 0.23240628 0.12287041]\n",
      "Optimized Weights: [0.43577103 0.31527484 0.18602095]\n",
      "Optimized Weights: [0.49173994 0.30143547 0.20096576]\n",
      "Optimized Weights: [0.43624589 0.31621958 0.18578682]\n"
     ]
    }
   ],
   "source": [
    "# Iterate through each statistic in the 'non_pa_list' for projection.\n",
    "for stat in pa_list:\n",
    "    # Calculate per plate appearance (PA) values for the current and previous three seasons\n",
    "    # by dividing the stat for each season by the corresponding projected or actual PA.\n",
    "    df[f'{stat}/PA'] = df[stat] / df['Projected_PA']\n",
    "    df[f'1Prev_{stat}/PA'] = df[f'1Prev_{stat}'] / df['1Prev_PA']\n",
    "    df[f'2Prev_{stat}/PA'] = df[f'2Prev_{stat}'] / df['2Prev_PA']\n",
    "    df[f'3Prev_{stat}/PA'] = df[f'3Prev_{stat}'] / df['3Prev_PA']\n",
    "\n",
    "    # Create a 'training_df' with the calculated per-PA values and the projected PA \n",
    "    # to be used in the optimization or further analysis.\n",
    "    training_df = df[[f'{stat}/PA', f'1Prev_{stat}/PA', f'2Prev_{stat}/PA', f'3Prev_{stat}/PA', 'Projected_PA']]\n",
    "\n",
    "    # Copy the data for future use and drop any rows with missing (NaN) values.\n",
    "    training_df_original = training_df.copy()\n",
    "    training_df = training_df.dropna()\n",
    "\n",
    "    # Use an initial guess of equal weights (0.33) for the three seasons to start the optimization.\n",
    "    initial_guess = [0.33, 0.33, 0.33]\n",
    "\n",
    "    # Apply the Nelder-Mead optimization method to minimize the objective function and find the best weights.\n",
    "    result = minimize(objective, initial_guess, args=(training_df,), method='Nelder-Mead')\n",
    "\n",
    "    # Extract the optimized weights for the three seasons and print them for verification.\n",
    "    optimized_weights = result.x[:3]\n",
    "    print(\"Optimized Weights:\", optimized_weights)\n",
    "\n",
    "    # Apply the 'calculate_projected_stat_per_pa' function to the cleaned data to generate the projected stat\n",
    "    # and add it as a new column in the DataFrame\n",
    "    df[f'Projected_{stat}'] = training_df_original.apply(calculate_projected_stat_per_pa, axis=1)"
   ]
  },
  {
   "cell_type": "markdown",
   "id": "8a972735-c2b1-44ab-8276-cec3a9a3bcfd",
   "metadata": {},
   "source": [
    "# Organize and Export"
   ]
  },
  {
   "cell_type": "code",
   "execution_count": null,
   "id": "55e40d51-f835-4d87-a521-f175c580a2b9",
   "metadata": {},
   "outputs": [],
   "source": [
    "columns_to_keep = [\"IDfg\", \"Name\", \"Season\", \"Team\", \"Age\"]"
   ]
  },
  {
   "cell_type": "code",
   "execution_count": null,
   "id": "e0053698-cd10-4e22-aabe-1e7338d33c23",
   "metadata": {},
   "outputs": [],
   "source": [
    "df = df.drop(columns=df.filter(like='Prev').columns)"
   ]
  },
  {
   "cell_type": "code",
   "execution_count": null,
   "id": "5a66f90a-083f-4267-bff8-ef44f4a03fc1",
   "metadata": {},
   "outputs": [],
   "source": [
    "df = df.drop(columns=df.filter(like='/PA').columns)"
   ]
  },
  {
   "cell_type": "code",
   "execution_count": null,
   "id": "5013d6ad-7920-4434-9adc-f29097d3166e",
   "metadata": {},
   "outputs": [],
   "source": [
    "# Create a list of stats (e.g., 'H', 'HR', etc.)\n",
    "stats = pa_list + non_pa_list\n",
    "\n",
    "# Create a new column order\n",
    "ordered_columns = []\n",
    "for stat in stats:\n",
    "    ordered_columns.append(stat)  # Add actual stat\n",
    "    projected_col = f\"Projected_{stat}\"\n",
    "    if projected_col in df.columns:\n",
    "        ordered_columns.append(projected_col)  # Add projected stat if it exists"
   ]
  },
  {
   "cell_type": "code",
   "execution_count": null,
   "id": "1622ae0d-2af9-4ce2-ae0c-f3a1bd85ebc6",
   "metadata": {},
   "outputs": [],
   "source": [
    "columns_to_keep = columns_to_keep + ordered_columns\n",
    "df = df.loc[:, columns_to_keep]"
   ]
  },
  {
   "cell_type": "code",
   "execution_count": null,
   "id": "b79b6afa-7e37-4a85-8cbe-8d08864cd5ee",
   "metadata": {},
   "outputs": [],
   "source": [
    "df.head()"
   ]
  },
  {
   "cell_type": "code",
   "execution_count": null,
   "id": "a69ed3ab-fe2b-4e8a-bfee-cc4c6c86706f",
   "metadata": {},
   "outputs": [],
   "source": [
    "# Export to a specific folder\n",
    "df.to_csv('../Projection_Results/model_three.csv', index=False)"
   ]
  }
 ],
 "metadata": {
  "kernelspec": {
   "display_name": "Python 3 (ipykernel)",
   "language": "python",
   "name": "python3"
  },
  "language_info": {
   "codemirror_mode": {
    "name": "ipython",
    "version": 3
   },
   "file_extension": ".py",
   "mimetype": "text/x-python",
   "name": "python",
   "nbconvert_exporter": "python",
   "pygments_lexer": "ipython3",
   "version": "3.12.4"
  }
 },
 "nbformat": 4,
 "nbformat_minor": 5
}
