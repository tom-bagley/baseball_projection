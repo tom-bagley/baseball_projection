{
 "cells": [
  {
   "cell_type": "markdown",
   "id": "35f50938-b96b-414e-91be-91a52755bf26",
   "metadata": {},
   "source": [
    "# Import Packages and Data"
   ]
  },
  {
   "cell_type": "code",
   "execution_count": 1,
   "id": "c79dd2c7-c62c-46cf-8d45-39205ed5d861",
   "metadata": {},
   "outputs": [],
   "source": [
    "import numpy as np\n",
    "import pandas as pd\n",
    "from scipy.optimize import minimize"
   ]
  },
  {
   "cell_type": "code",
   "execution_count": 2,
   "id": "46d1c54a-87ad-49c2-80d2-e52db8879c5a",
   "metadata": {},
   "outputs": [],
   "source": [
    "df = pd.read_csv('../Resources/properly_formatted_data.csv')"
   ]
  },
  {
   "cell_type": "markdown",
   "id": "757b84c6-de0a-4617-b30f-14ba21cc7346",
   "metadata": {},
   "source": [
    "# Automate"
   ]
  },
  {
   "cell_type": "code",
   "execution_count": 3,
   "id": "d3e68f5c-d2e7-4c6d-ac8f-bc0d6a8fec9d",
   "metadata": {},
   "outputs": [],
   "source": [
    "def projection(weights, year1, year2, year3):\n",
    "    weighted_mean = weights[0] * year1 + weights[1] * year2 + weights[2] * year3\n",
    "    weighted_mean /= np.sum(weights)  # Normalize the weights to sum to 1\n",
    "    return weighted_mean"
   ]
  },
  {
   "cell_type": "code",
   "execution_count": 4,
   "id": "672063b8-b5c7-4ded-be30-dc6329969393",
   "metadata": {},
   "outputs": [],
   "source": [
    "def objective(params, df):\n",
    "    weights = params[:3]  # First 3 params are the weights for the years\n",
    "    \n",
    "    total_rmse = 0  # Sum of RMSE for all players\n",
    "    \n",
    "    # Loop through each player and compute the error\n",
    "    for _, row in df.iterrows():\n",
    "        # Access columns by their positional index\n",
    "        year1_HR, year2_HR, year3_HR = row.iloc[1], row.iloc[2], row.iloc[3]\n",
    "\n",
    "        observed_HR = row.iloc[0]\n",
    "        \n",
    "        # Projected stats for HR and RBI (you could extend this for more stats)\n",
    "        projected_HR = projection(weights, year1_HR, year2_HR, year3_HR)\n",
    "        \n",
    "        \n",
    "        # Compute RMSE for HR and RBI (you can expand this to more stats)\n",
    "        rmse_HR = np.sqrt(np.mean((projected_HR - observed_HR) ** 2))\n",
    "        \n",
    "        \n",
    "        total_rmse += rmse_HR\n",
    "    \n",
    "    return total_rmse  # Total RMSE for the entire dataset"
   ]
  },
  {
   "cell_type": "code",
   "execution_count": 5,
   "id": "6aa801ec-583c-4ac5-9f41-e6f63dd8726c",
   "metadata": {},
   "outputs": [],
   "source": [
    "def calculate_projected_hr(row):\n",
    "    # Get the previous 3 years' HR values\n",
    "    previous_hr_values = row.iloc[1:4].values\n",
    "    \n",
    "    # Filter out NaN values and their corresponding weights\n",
    "    valid_values = [val for val, weight in zip(previous_hr_values, optimized_weights) if not np.isnan(val)]\n",
    "    valid_weights = [weight for val, weight in zip(previous_hr_values, optimized_weights) if not np.isnan(val)]\n",
    "    \n",
    "    # Check if no valid data exists\n",
    "    if len(valid_values) == 0:\n",
    "        return np.nan  # Return NaN if no previous HR value is available\n",
    "    \n",
    "    # Calculate the weighted average of the valid previous HR values\n",
    "    weighted_sum = sum(val * weight for val, weight in zip(valid_values, valid_weights))\n",
    "    weighted_avg = weighted_sum / sum(valid_weights)\n",
    "    \n",
    "    return weighted_avg"
   ]
  },
  {
   "cell_type": "code",
   "execution_count": 6,
   "id": "ea465e54-bd7f-4b76-8820-64e99a4d1274",
   "metadata": {},
   "outputs": [],
   "source": [
    "pa_list = ['H', '1B', '2B', '3B', 'HR', 'R', 'RBI', 'BB', 'SH', 'SB', 'L-WAR', 'wRC', 'WAR']\n",
    "non_pa_list = ['G', 'AB', 'PA', 'AVG', 'BB%', 'OBP', 'SLG', 'OPS', 'ISO', 'wOBA', 'wRAA', 'wRC+', 'BB%+']"
   ]
  },
  {
   "cell_type": "code",
   "execution_count": 7,
   "id": "bc985475-4674-4bbc-9a5f-13584c9e337a",
   "metadata": {},
   "outputs": [
    {
     "name": "stdout",
     "output_type": "stream",
     "text": [
      "Optimized Weights: [0.55706882 0.14237771 0.0636827 ]\n",
      "Optimized Weights: [0.60607341 0.12210693 0.06075946]\n",
      "Optimized Weights: [0.65158376 0.12981028 0.0617733 ]\n",
      "Optimized Weights: [0.42961582 0.31509783 0.20345475]\n",
      "Optimized Weights: [0.43566675 0.30478457 0.1969243 ]\n",
      "Optimized Weights: [0.430343   0.30751144 0.19723082]\n",
      "Optimized Weights: [0.47859045 0.30625046 0.20317302]\n",
      "Optimized Weights: [0.45856742 0.31210143 0.20945251]\n",
      "Optimized Weights: [0.5024387  0.2972551  0.19577622]\n",
      "Optimized Weights: [0.43250237 0.3035576  0.19775468]\n",
      "Optimized Weights: [0.47453558 0.27859936 0.22395609]\n",
      "Optimized Weights: [0.43523122 0.30351999 0.20522359]\n",
      "Optimized Weights: [0.44503495 0.30780076 0.19854949]\n"
     ]
    }
   ],
   "source": [
    "for stat in non_pa_list:\n",
    "    training_df = df[[stat, f'1Prev_{stat}', f'2Prev_{stat}', f'3Prev_{stat}']]\n",
    "    for_future_use = training_df.copy()\n",
    "    training_df = training_df.dropna()\n",
    "    initial_guess = [0.33, 0.33, 0.33]\n",
    "    \n",
    "    result = minimize(objective, initial_guess, args=(training_df,), method='Nelder-Mead')\n",
    "    \n",
    "    optimized_weights = result.x[:3]\n",
    "\n",
    "    print(\"Optimized Weights:\", optimized_weights)\n",
    "\n",
    "    df[f'Projected_{stat}'] = for_future_use.apply(calculate_projected_hr, axis=1)"
   ]
  },
  {
   "cell_type": "markdown",
   "id": "e7aba474-b18f-4020-8dce-cb2154513b19",
   "metadata": {},
   "source": [
    "# Adding per PA"
   ]
  },
  {
   "cell_type": "code",
   "execution_count": 8,
   "id": "36dd08fa-198c-4e35-a040-f9d5e0a9dda3",
   "metadata": {},
   "outputs": [],
   "source": [
    "def calculate_projected_hr_per_pa(row):\n",
    "    # Get the previous 3 years' HR values\n",
    "    previous_hr_values = row.iloc[1:4].values\n",
    "    \n",
    "    # Filter out NaN values and their corresponding weights\n",
    "    valid_values = [val for val, weight in zip(previous_hr_values, optimized_weights) if not np.isnan(val)]\n",
    "    valid_weights = [weight for val, weight in zip(previous_hr_values, optimized_weights) if not np.isnan(val)]\n",
    "    \n",
    "    # Check if no valid data exists\n",
    "    if len(valid_values) == 0:\n",
    "        return np.nan  # Return NaN if no previous HR value is available\n",
    "    \n",
    "    # Calculate the weighted average of the valid previous HR values\n",
    "    weighted_sum = sum(val * weight for val, weight in zip(valid_values, valid_weights))\n",
    "    weighted_avg = weighted_sum / sum(valid_weights)\n",
    "    \n",
    "    regressed_avg = weighted_avg * row.iloc[4]\n",
    "    \n",
    "    return regressed_avg"
   ]
  },
  {
   "cell_type": "code",
   "execution_count": 9,
   "id": "621bdd23-dfe3-49c2-9d66-5393da2df18b",
   "metadata": {},
   "outputs": [
    {
     "name": "stdout",
     "output_type": "stream",
     "text": [
      "Optimized Weights: [0.51078732 0.25702032 0.17601161]\n",
      "Optimized Weights: [0.49111432 0.30726938 0.20644621]\n",
      "Optimized Weights: [0.49227301 0.26364831 0.17673368]\n",
      "Optimized Weights: [0.55075862 0.29879894 0.13028598]\n",
      "Optimized Weights: [0.51864579 0.24960802 0.14697175]\n",
      "Optimized Weights: [0.5726461  0.28837273 0.11705846]\n",
      "Optimized Weights: [0.50856386 0.28501604 0.16570355]\n",
      "Optimized Weights: [0.49846368 0.31202633 0.18759177]\n",
      "Optimized Weights: [0.42385782 0.30626452 0.21442836]\n",
      "Optimized Weights: [0.53230826 0.23240628 0.12287041]\n",
      "Optimized Weights: [0.43577103 0.31527484 0.18602095]\n",
      "Optimized Weights: [0.49173994 0.30143547 0.20096576]\n",
      "Optimized Weights: [0.43624589 0.31621958 0.18578682]\n"
     ]
    }
   ],
   "source": [
    "for stat in pa_list:\n",
    "    df[f'{stat}/PA'] = df[stat] / df['Projected_PA']\n",
    "    df[f'1Prev_{stat}/PA'] = df[f'1Prev_{stat}'] / df['1Prev_PA']\n",
    "    df[f'2Prev_{stat}/PA'] = df[f'2Prev_{stat}'] / df['2Prev_PA']\n",
    "    df[f'3Prev_{stat}/PA'] = df[f'3Prev_{stat}'] / df['3Prev_PA']\n",
    "    \n",
    "    training_df = df[[f'{stat}/PA', f'1Prev_{stat}/PA', f'2Prev_{stat}/PA', f'3Prev_{stat}/PA', 'Projected_PA']]\n",
    "    for_future_use = training_df.copy()\n",
    "    training_df = training_df.dropna()\n",
    "    initial_guess = [0.33, 0.33, 0.33]\n",
    "    \n",
    "    result = minimize(objective, initial_guess, args=(training_df,), method='Nelder-Mead')\n",
    "    \n",
    "    optimized_weights = result.x[:3]\n",
    "\n",
    "    print(\"Optimized Weights:\", optimized_weights)\n",
    "\n",
    "    df[f'Projected_{stat}'] = for_future_use.apply(calculate_projected_hr_per_pa, axis=1)"
   ]
  },
  {
   "cell_type": "code",
   "execution_count": 10,
   "id": "55e40d51-f835-4d87-a521-f175c580a2b9",
   "metadata": {},
   "outputs": [],
   "source": [
    "columns_to_keep = [\"IDfg\", \"Name\", \"Season\", \"Team\", \"Age\"]"
   ]
  },
  {
   "cell_type": "code",
   "execution_count": 11,
   "id": "e0053698-cd10-4e22-aabe-1e7338d33c23",
   "metadata": {},
   "outputs": [],
   "source": [
    "df = df.drop(columns=df.filter(like='Prev').columns)"
   ]
  },
  {
   "cell_type": "code",
   "execution_count": 12,
   "id": "5a66f90a-083f-4267-bff8-ef44f4a03fc1",
   "metadata": {},
   "outputs": [],
   "source": [
    "df = df.drop(columns=df.filter(like='/PA').columns)"
   ]
  },
  {
   "cell_type": "code",
   "execution_count": 13,
   "id": "5013d6ad-7920-4434-9adc-f29097d3166e",
   "metadata": {},
   "outputs": [],
   "source": [
    "# Create a list of stats (e.g., 'H', 'HR', etc.)\n",
    "stats = pa_list + non_pa_list\n",
    "\n",
    "# Create a new column order\n",
    "ordered_columns = []\n",
    "for stat in stats:\n",
    "    ordered_columns.append(stat)  # Add actual stat\n",
    "    projected_col = f\"Projected_{stat}\"\n",
    "    if projected_col in df.columns:\n",
    "        ordered_columns.append(projected_col)  # Add projected stat if it exists\n",
    "\n",
    "# Add any remaining columns that are not stats or projected stats\n",
    "#remaining_columns = [col for col in df.columns if col not in ordered_columns]\n",
    "#ordered_columns.extend(remaining_columns)\n",
    "\n",
    "# Reorder the DataFrame\n",
    "#df = df[ordered_columns]"
   ]
  },
  {
   "cell_type": "code",
   "execution_count": 14,
   "id": "1622ae0d-2af9-4ce2-ae0c-f3a1bd85ebc6",
   "metadata": {},
   "outputs": [],
   "source": [
    "columns_to_keep = columns_to_keep + ordered_columns\n",
    "df = df.loc[:, columns_to_keep]"
   ]
  },
  {
   "cell_type": "code",
   "execution_count": 15,
   "id": "b79b6afa-7e37-4a85-8cbe-8d08864cd5ee",
   "metadata": {},
   "outputs": [
    {
     "data": {
      "text/html": [
       "<div>\n",
       "<style scoped>\n",
       "    .dataframe tbody tr th:only-of-type {\n",
       "        vertical-align: middle;\n",
       "    }\n",
       "\n",
       "    .dataframe tbody tr th {\n",
       "        vertical-align: top;\n",
       "    }\n",
       "\n",
       "    .dataframe thead th {\n",
       "        text-align: right;\n",
       "    }\n",
       "</style>\n",
       "<table border=\"1\" class=\"dataframe\">\n",
       "  <thead>\n",
       "    <tr style=\"text-align: right;\">\n",
       "      <th></th>\n",
       "      <th>IDfg</th>\n",
       "      <th>Name</th>\n",
       "      <th>Season</th>\n",
       "      <th>Team</th>\n",
       "      <th>Age</th>\n",
       "      <th>H</th>\n",
       "      <th>Projected_H</th>\n",
       "      <th>1B</th>\n",
       "      <th>Projected_1B</th>\n",
       "      <th>2B</th>\n",
       "      <th>...</th>\n",
       "      <th>ISO</th>\n",
       "      <th>Projected_ISO</th>\n",
       "      <th>wOBA</th>\n",
       "      <th>Projected_wOBA</th>\n",
       "      <th>wRAA</th>\n",
       "      <th>Projected_wRAA</th>\n",
       "      <th>wRC+</th>\n",
       "      <th>Projected_wRC+</th>\n",
       "      <th>BB%+</th>\n",
       "      <th>Projected_BB%+</th>\n",
       "    </tr>\n",
       "  </thead>\n",
       "  <tbody>\n",
       "    <tr>\n",
       "      <th>0</th>\n",
       "      <td>1</td>\n",
       "      <td>Alfredo Amezaga</td>\n",
       "      <td>2002</td>\n",
       "      <td>ANA</td>\n",
       "      <td>24.0</td>\n",
       "      <td>7.0</td>\n",
       "      <td>NaN</td>\n",
       "      <td>5.0</td>\n",
       "      <td>NaN</td>\n",
       "      <td>2.0</td>\n",
       "      <td>...</td>\n",
       "      <td>0.154</td>\n",
       "      <td>NaN</td>\n",
       "      <td>0.536</td>\n",
       "      <td>NaN</td>\n",
       "      <td>2.3</td>\n",
       "      <td>NaN</td>\n",
       "      <td>239.0</td>\n",
       "      <td>NaN</td>\n",
       "      <td>0.0</td>\n",
       "      <td>NaN</td>\n",
       "    </tr>\n",
       "    <tr>\n",
       "      <th>1</th>\n",
       "      <td>1</td>\n",
       "      <td>Alfredo Amezaga</td>\n",
       "      <td>2003</td>\n",
       "      <td>ANA</td>\n",
       "      <td>25.0</td>\n",
       "      <td>22.0</td>\n",
       "      <td>7.000000</td>\n",
       "      <td>15.0</td>\n",
       "      <td>5.000000</td>\n",
       "      <td>3.0</td>\n",
       "      <td>...</td>\n",
       "      <td>0.124</td>\n",
       "      <td>0.154000</td>\n",
       "      <td>0.273</td>\n",
       "      <td>0.536000</td>\n",
       "      <td>-5.5</td>\n",
       "      <td>2.300000</td>\n",
       "      <td>63.0</td>\n",
       "      <td>239.000000</td>\n",
       "      <td>91.0</td>\n",
       "      <td>0.000000</td>\n",
       "    </tr>\n",
       "    <tr>\n",
       "      <th>2</th>\n",
       "      <td>1</td>\n",
       "      <td>Alfredo Amezaga</td>\n",
       "      <td>2004</td>\n",
       "      <td>ANA</td>\n",
       "      <td>26.0</td>\n",
       "      <td>15.0</td>\n",
       "      <td>30.893354</td>\n",
       "      <td>11.0</td>\n",
       "      <td>22.991988</td>\n",
       "      <td>2.0</td>\n",
       "      <td>...</td>\n",
       "      <td>0.086</td>\n",
       "      <td>0.135151</td>\n",
       "      <td>0.208</td>\n",
       "      <td>0.381464</td>\n",
       "      <td>-10.9</td>\n",
       "      <td>-2.614627</td>\n",
       "      <td>19.0</td>\n",
       "      <td>135.310567</td>\n",
       "      <td>34.0</td>\n",
       "      <td>53.794181</td>\n",
       "    </tr>\n",
       "    <tr>\n",
       "      <th>3</th>\n",
       "      <td>1</td>\n",
       "      <td>Alfredo Amezaga</td>\n",
       "      <td>2005</td>\n",
       "      <td>- - -</td>\n",
       "      <td>27.0</td>\n",
       "      <td>2.0</td>\n",
       "      <td>22.895093</td>\n",
       "      <td>2.0</td>\n",
       "      <td>16.940618</td>\n",
       "      <td>0.0</td>\n",
       "      <td>...</td>\n",
       "      <td>0.000</td>\n",
       "      <td>0.110720</td>\n",
       "      <td>0.276</td>\n",
       "      <td>0.298591</td>\n",
       "      <td>-0.4</td>\n",
       "      <td>-6.334758</td>\n",
       "      <td>57.0</td>\n",
       "      <td>80.976304</td>\n",
       "      <td>126.0</td>\n",
       "      <td>45.345521</td>\n",
       "    </tr>\n",
       "    <tr>\n",
       "      <th>4</th>\n",
       "      <td>1</td>\n",
       "      <td>Alfredo Amezaga</td>\n",
       "      <td>2006</td>\n",
       "      <td>FLA</td>\n",
       "      <td>28.0</td>\n",
       "      <td>87.0</td>\n",
       "      <td>6.170410</td>\n",
       "      <td>72.0</td>\n",
       "      <td>5.307888</td>\n",
       "      <td>9.0</td>\n",
       "      <td>...</td>\n",
       "      <td>0.072</td>\n",
       "      <td>0.050067</td>\n",
       "      <td>0.296</td>\n",
       "      <td>0.253260</td>\n",
       "      <td>-11.5</td>\n",
       "      <td>-4.562836</td>\n",
       "      <td>75.0</td>\n",
       "      <td>46.086130</td>\n",
       "      <td>98.0</td>\n",
       "      <td>88.930996</td>\n",
       "    </tr>\n",
       "  </tbody>\n",
       "</table>\n",
       "<p>5 rows × 57 columns</p>\n",
       "</div>"
      ],
      "text/plain": [
       "   IDfg             Name  Season   Team   Age     H  Projected_H    1B  \\\n",
       "0     1  Alfredo Amezaga    2002    ANA  24.0   7.0          NaN   5.0   \n",
       "1     1  Alfredo Amezaga    2003    ANA  25.0  22.0     7.000000  15.0   \n",
       "2     1  Alfredo Amezaga    2004    ANA  26.0  15.0    30.893354  11.0   \n",
       "3     1  Alfredo Amezaga    2005  - - -  27.0   2.0    22.895093   2.0   \n",
       "4     1  Alfredo Amezaga    2006    FLA  28.0  87.0     6.170410  72.0   \n",
       "\n",
       "   Projected_1B   2B  ...    ISO  Projected_ISO   wOBA  Projected_wOBA  wRAA  \\\n",
       "0           NaN  2.0  ...  0.154            NaN  0.536             NaN   2.3   \n",
       "1      5.000000  3.0  ...  0.124       0.154000  0.273        0.536000  -5.5   \n",
       "2     22.991988  2.0  ...  0.086       0.135151  0.208        0.381464 -10.9   \n",
       "3     16.940618  0.0  ...  0.000       0.110720  0.276        0.298591  -0.4   \n",
       "4      5.307888  9.0  ...  0.072       0.050067  0.296        0.253260 -11.5   \n",
       "\n",
       "   Projected_wRAA   wRC+  Projected_wRC+   BB%+  Projected_BB%+  \n",
       "0             NaN  239.0             NaN    0.0             NaN  \n",
       "1        2.300000   63.0      239.000000   91.0        0.000000  \n",
       "2       -2.614627   19.0      135.310567   34.0       53.794181  \n",
       "3       -6.334758   57.0       80.976304  126.0       45.345521  \n",
       "4       -4.562836   75.0       46.086130   98.0       88.930996  \n",
       "\n",
       "[5 rows x 57 columns]"
      ]
     },
     "execution_count": 15,
     "metadata": {},
     "output_type": "execute_result"
    }
   ],
   "source": [
    "df.head()"
   ]
  },
  {
   "cell_type": "code",
   "execution_count": 16,
   "id": "a69ed3ab-fe2b-4e8a-bfee-cc4c6c86706f",
   "metadata": {},
   "outputs": [],
   "source": [
    "# Export to a specific folder\n",
    "df.to_csv('../Projection_Results/model_three.csv', index=False)"
   ]
  },
  {
   "cell_type": "code",
   "execution_count": null,
   "id": "91c17c15-900b-4c53-adeb-e17753fe96f1",
   "metadata": {},
   "outputs": [],
   "source": []
  }
 ],
 "metadata": {
  "kernelspec": {
   "display_name": "Python 3 (ipykernel)",
   "language": "python",
   "name": "python3"
  },
  "language_info": {
   "codemirror_mode": {
    "name": "ipython",
    "version": 3
   },
   "file_extension": ".py",
   "mimetype": "text/x-python",
   "name": "python",
   "nbconvert_exporter": "python",
   "pygments_lexer": "ipython3",
   "version": "3.12.4"
  }
 },
 "nbformat": 4,
 "nbformat_minor": 5
}
